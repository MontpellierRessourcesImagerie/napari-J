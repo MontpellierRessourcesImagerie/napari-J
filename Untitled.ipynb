{
 "cells": [
  {
   "cell_type": "code",
   "execution_count": 1,
   "id": "e476b6b8",
   "metadata": {},
   "outputs": [],
   "source": [
    "%qtconsole"
   ]
  },
  {
   "cell_type": "code",
   "execution_count": 2,
   "id": "1ac1ad42",
   "metadata": {
    "scrolled": true
   },
   "outputs": [],
   "source": [
    "import napari\n",
    "viewer = napari.Viewer()"
   ]
  },
  {
   "cell_type": "code",
   "execution_count": 8,
   "id": "627636ae",
   "metadata": {},
   "outputs": [],
   "source": [
    "from napari.plugins import NapariPluginManager\n",
    "plugin_manager = NapariPluginManager()\n"
   ]
  },
  {
   "cell_type": "code",
   "execution_count": 9,
   "id": "e9f1d6a2",
   "metadata": {},
   "outputs": [
    {
     "data": {
      "text/plain": [
       "'napari-J'"
      ]
     },
     "execution_count": 9,
     "metadata": {},
     "output_type": "execute_result"
    }
   ],
   "source": [
    "import napari_j\n",
    "\n",
    "plugin_manager.register(napari_j, name=\"napari-J\")"
   ]
  },
  {
   "cell_type": "code",
   "execution_count": 1,
   "id": "22013401",
   "metadata": {},
   "outputs": [],
   "source": [
    "import yaml"
   ]
  },
  {
   "cell_type": "code",
   "execution_count": 6,
   "id": "d80024a5",
   "metadata": {},
   "outputs": [],
   "source": [
    "with open('./naparij.yml', 'r') as file:\n",
    "    params = yaml.load(file, Loader=yaml.FullLoader)"
   ]
  },
  {
   "cell_type": "code",
   "execution_count": 7,
   "id": "48f505ce",
   "metadata": {},
   "outputs": [
    {
     "data": {
      "text/plain": [
       "{'connection': {'jvm_path': '/java/linux-amd64/jdk1.8.0_172/jre/lib/amd64/server/libjvm.so',\n",
       "  'jvm_memory': '19639m',\n",
       "  'fiji_path': '/media/baecker/DONNEES1/programs/Fiji.app',\n",
       "  'class_path': './jars/imagej-launcher-5.0.3.jar'}}"
      ]
     },
     "execution_count": 7,
     "metadata": {},
     "output_type": "execute_result"
    }
   ],
   "source": [
    "params"
   ]
  },
  {
   "cell_type": "code",
   "execution_count": 8,
   "id": "9eafb5bb",
   "metadata": {},
   "outputs": [],
   "source": [
    "connection_params = params['connection']"
   ]
  },
  {
   "cell_type": "code",
   "execution_count": 10,
   "id": "57f63dfa",
   "metadata": {},
   "outputs": [
    {
     "data": {
      "text/plain": [
       "'/java/linux-amd64/jdk1.8.0_172/jre/lib/amd64/server/libjvm.so'"
      ]
     },
     "execution_count": 10,
     "metadata": {},
     "output_type": "execute_result"
    }
   ],
   "source": [
    "connection_params['jvm_path']"
   ]
  },
  {
   "cell_type": "code",
   "execution_count": null,
   "id": "90a92d83",
   "metadata": {},
   "outputs": [],
   "source": []
  }
 ],
 "metadata": {
  "kernelspec": {
   "display_name": "Python 3",
   "language": "python",
   "name": "python3"
  },
  "language_info": {
   "codemirror_mode": {
    "name": "ipython",
    "version": 3
   },
   "file_extension": ".py",
   "mimetype": "text/x-python",
   "name": "python",
   "nbconvert_exporter": "python",
   "pygments_lexer": "ipython3",
   "version": "3.8.10"
  }
 },
 "nbformat": 4,
 "nbformat_minor": 5
}
